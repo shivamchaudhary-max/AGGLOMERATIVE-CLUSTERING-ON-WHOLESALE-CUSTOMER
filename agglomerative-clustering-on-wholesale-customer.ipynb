{
 "cells": [
  {
   "cell_type": "code",
   "execution_count": 1,
   "id": "ad1fef8d",
   "metadata": {
    "execution": {
     "iopub.execute_input": "2022-01-19T15:48:18.223196Z",
     "iopub.status.busy": "2022-01-19T15:48:18.222344Z",
     "iopub.status.idle": "2022-01-19T15:48:19.903538Z",
     "shell.execute_reply": "2022-01-19T15:48:19.902608Z",
     "shell.execute_reply.started": "2022-01-19T15:27:26.019617Z"
    },
    "papermill": {
     "duration": 1.702449,
     "end_time": "2022-01-19T15:48:19.903760",
     "exception": false,
     "start_time": "2022-01-19T15:48:18.201311",
     "status": "completed"
    },
    "tags": []
   },
   "outputs": [],
   "source": [
    "import pandas as pd\n",
    "import numpy as np\n",
    "from sklearn.cluster import KMeans\n",
    "import matplotlib.pyplot as plt\n",
    "\n"
   ]
  },
  {
   "cell_type": "code",
   "execution_count": 2,
   "id": "ef6ab88d",
   "metadata": {
    "execution": {
     "iopub.execute_input": "2022-01-19T15:48:19.932469Z",
     "iopub.status.busy": "2022-01-19T15:48:19.931424Z",
     "iopub.status.idle": "2022-01-19T15:48:19.957204Z",
     "shell.execute_reply": "2022-01-19T15:48:19.956640Z",
     "shell.execute_reply.started": "2022-01-19T15:28:00.339899Z"
    },
    "papermill": {
     "duration": 0.043087,
     "end_time": "2022-01-19T15:48:19.957379",
     "exception": false,
     "start_time": "2022-01-19T15:48:19.914292",
     "status": "completed"
    },
    "tags": []
   },
   "outputs": [],
   "source": [
    "data2=pd.read_csv('../input/wholesale-customers/Wholesale customers data.csv')"
   ]
  },
  {
   "cell_type": "code",
   "execution_count": 3,
   "id": "5bcab3c3",
   "metadata": {
    "execution": {
     "iopub.execute_input": "2022-01-19T15:48:19.986019Z",
     "iopub.status.busy": "2022-01-19T15:48:19.983488Z",
     "iopub.status.idle": "2022-01-19T15:48:20.000958Z",
     "shell.execute_reply": "2022-01-19T15:48:20.000234Z",
     "shell.execute_reply.started": "2022-01-19T15:28:13.244105Z"
    },
    "papermill": {
     "duration": 0.034043,
     "end_time": "2022-01-19T15:48:20.001114",
     "exception": false,
     "start_time": "2022-01-19T15:48:19.967071",
     "status": "completed"
    },
    "tags": []
   },
   "outputs": [
    {
     "data": {
      "text/plain": [
       "Channel             0\n",
       "Region              0\n",
       "Fresh               0\n",
       "Milk                0\n",
       "Grocery             0\n",
       "Frozen              0\n",
       "Detergents_Paper    0\n",
       "Delicassen          0\n",
       "dtype: int64"
      ]
     },
     "execution_count": 3,
     "metadata": {},
     "output_type": "execute_result"
    }
   ],
   "source": [
    "data2.isnull().sum()"
   ]
  },
  {
   "cell_type": "code",
   "execution_count": 4,
   "id": "024b7538",
   "metadata": {
    "execution": {
     "iopub.execute_input": "2022-01-19T15:48:20.031039Z",
     "iopub.status.busy": "2022-01-19T15:48:20.030230Z",
     "iopub.status.idle": "2022-01-19T15:48:20.037353Z",
     "shell.execute_reply": "2022-01-19T15:48:20.038150Z",
     "shell.execute_reply.started": "2022-01-19T15:46:18.739563Z"
    },
    "papermill": {
     "duration": 0.026005,
     "end_time": "2022-01-19T15:48:20.038358",
     "exception": false,
     "start_time": "2022-01-19T15:48:20.012353",
     "status": "completed"
    },
    "tags": []
   },
   "outputs": [],
   "source": [
    "x1=data2.iloc[:,[1]].values"
   ]
  },
  {
   "cell_type": "code",
   "execution_count": 5,
   "id": "31cff760",
   "metadata": {
    "execution": {
     "iopub.execute_input": "2022-01-19T15:48:20.067912Z",
     "iopub.status.busy": "2022-01-19T15:48:20.066947Z",
     "iopub.status.idle": "2022-01-19T15:48:20.072132Z",
     "shell.execute_reply": "2022-01-19T15:48:20.072724Z",
     "shell.execute_reply.started": "2022-01-19T15:46:21.058342Z"
    },
    "papermill": {
     "duration": 0.021375,
     "end_time": "2022-01-19T15:48:20.072930",
     "exception": false,
     "start_time": "2022-01-19T15:48:20.051555",
     "status": "completed"
    },
    "tags": []
   },
   "outputs": [],
   "source": [
    "wh=data2.iloc[:,[1]].values\n"
   ]
  },
  {
   "cell_type": "code",
   "execution_count": 6,
   "id": "ab0cbdb9",
   "metadata": {
    "execution": {
     "iopub.execute_input": "2022-01-19T15:48:20.102149Z",
     "iopub.status.busy": "2022-01-19T15:48:20.098494Z",
     "iopub.status.idle": "2022-01-19T15:48:32.332168Z",
     "shell.execute_reply": "2022-01-19T15:48:32.331482Z",
     "shell.execute_reply.started": "2022-01-19T15:46:24.851420Z"
    },
    "papermill": {
     "duration": 12.248696,
     "end_time": "2022-01-19T15:48:32.332315",
     "exception": false,
     "start_time": "2022-01-19T15:48:20.083619",
     "status": "completed"
    },
    "tags": []
   },
   "outputs": [
    {
     "data": {
      "image/png": "[encoded data removed]",
      "text/plain": [
       "<Figure size 720x504 with 1 Axes>"
      ]
     },
     "metadata": {
      "needs_background": "light"
     },
     "output_type": "display_data"
    }
   ],
   "source": [
    "#drawing dendogram\n",
    "import scipy.cluster.hierarchy as shc\n",
    "\n",
    "plt.figure(figsize=(10, 7))  \n",
    "plt.title(\"\")  \n",
    "dend = shc.dendrogram(shc.linkage(wh, method='ward')) "
   ]
  },
  {
   "cell_type": "code",
   "execution_count": 7,
   "id": "ef0e22e4",
   "metadata": {
    "execution": {
     "iopub.execute_input": "2022-01-19T15:48:32.362059Z",
     "iopub.status.busy": "2022-01-19T15:48:32.361198Z",
     "iopub.status.idle": "2022-01-19T15:48:32.374074Z",
     "shell.execute_reply": "2022-01-19T15:48:32.374740Z",
     "shell.execute_reply.started": "2022-01-19T15:46:50.391550Z"
    },
    "papermill": {
     "duration": 0.029813,
     "end_time": "2022-01-19T15:48:32.374956",
     "exception": false,
     "start_time": "2022-01-19T15:48:32.345143",
     "status": "completed"
    },
    "tags": []
   },
   "outputs": [
    {
     "name": "stdout",
     "output_type": "stream",
     "text": [
      "[1 1 1 1 1 1 1 1 1 1 1 1 1 1 1 1 1 1 1 1 1 1 1 1 1 1 1 1 1 1 1 1 1 1 1 1 1\n",
      " 1 1 1 1 1 1 1 1 1 1 1 1 1 1 1 1 1 1 1 1 1 1 1 1 1 1 1 1 1 1 1 1 1 1 1 1 1\n",
      " 1 1 1 1 1 1 1 1 1 1 1 1 1 1 1 1 1 1 1 1 1 1 1 1 1 1 1 1 1 1 1 1 1 1 1 1 1\n",
      " 1 1 1 1 1 1 1 1 1 1 1 1 1 1 1 1 1 1 1 1 1 1 1 1 1 1 1 1 1 1 1 1 1 1 1 1 1\n",
      " 1 1 1 1 1 1 1 1 1 1 1 1 1 1 1 1 1 1 1 1 1 1 1 1 1 1 1 1 1 1 1 1 1 1 1 1 1\n",
      " 1 1 1 1 1 1 1 1 1 1 1 0 0 0 0 0 0 0 0 0 0 0 0 0 0 0 0 0 0 0 0 0 0 0 0 0 0\n",
      " 0 0 0 0 0 0 0 0 0 0 0 0 0 0 0 0 0 0 0 0 0 0 0 0 0 0 0 0 0 0 0 0 0 0 0 0 0\n",
      " 0 0 0 0 0 0 0 0 0 0 0 0 0 0 1 1 1 1 1 1 1 1 1 1 1 1 1 1 1 1 1 1 1 1 0 0 0\n",
      " 0 0 0 0 0 0 0 0 0 0 0 0 0 0 0 0 0 0 0 0 0 0 0 0 0 0 0 0 0 0 0 0 0 0 0 0 0\n",
      " 0 0 0 0 0 0 0 1 1 1 1 1 1 1 1 1 1 1 1 1 1 1 1 1 1 1 1 1 1 1 1 1 1 1 1 1 1\n",
      " 1 1 1 1 1 1 1 1 1 1 1 1 1 1 1 1 1 1 1 1 1 1 1 1 1 1 1 1 1 1 1 1 1 1 1 1 1\n",
      " 1 1 1 1 1 1 1 1 1 1 1 1 1 1 1 1 1 1 1 1 1 1 1 1 1 1 1 1 1 1 1 1 1]\n"
     ]
    }
   ],
   "source": [
    "#clustering\n",
    "from sklearn.cluster import AgglomerativeClustering\n",
    "\n",
    "cluster = AgglomerativeClustering(n_clusters=2, affinity='euclidean', linkage='ward')  \n",
    "d=cluster.fit_predict(wh) \n",
    "print(d) \n",
    "\n",
    "\n",
    "\n"
   ]
  },
  {
   "cell_type": "code",
   "execution_count": 8,
   "id": "a2d95336",
   "metadata": {
    "execution": {
     "iopub.execute_input": "2022-01-19T15:48:32.406681Z",
     "iopub.status.busy": "2022-01-19T15:48:32.405863Z",
     "iopub.status.idle": "2022-01-19T15:48:32.708161Z",
     "shell.execute_reply": "2022-01-19T15:48:32.707360Z",
     "shell.execute_reply.started": "2022-01-19T15:46:55.450909Z"
    },
    "papermill": {
     "duration": 0.321324,
     "end_time": "2022-01-19T15:48:32.708328",
     "exception": false,
     "start_time": "2022-01-19T15:48:32.387004",
     "status": "completed"
    },
    "tags": []
   },
   "outputs": [
    {
     "data": {
      "text/plain": [
       "<matplotlib.collections.PathCollection at 0x7f3e84159810>"
      ]
     },
     "execution_count": 8,
     "metadata": {},
     "output_type": "execute_result"
    },
    {
     "data": {
      "image/png": "[encoded data removed]",
      "text/plain": [
       "<Figure size 720x504 with 1 Axes>"
      ]
     },
     "metadata": {
      "needs_background": "light"
     },
     "output_type": "display_data"
    }
   ],
   "source": [
    "#Plotting \n",
    "plt.figure(figsize=(10, 7))  \n",
    "plt.scatter(wh[:,0],wh[:,0], c=cluster.labels_, cmap='rainbow')"
   ]
  },
  {
   "cell_type": "code",
   "execution_count": 9,
   "id": "c5ec6710",
   "metadata": {
    "execution": {
     "iopub.execute_input": "2022-01-19T15:48:32.744995Z",
     "iopub.status.busy": "2022-01-19T15:48:32.743723Z",
     "iopub.status.idle": "2022-01-19T15:48:32.757315Z",
     "shell.execute_reply": "2022-01-19T15:48:32.756313Z",
     "shell.execute_reply.started": "2022-01-19T15:47:24.745611Z"
    },
    "papermill": {
     "duration": 0.034965,
     "end_time": "2022-01-19T15:48:32.757620",
     "exception": false,
     "start_time": "2022-01-19T15:48:32.722655",
     "status": "completed"
    },
    "tags": []
   },
   "outputs": [
    {
     "name": "stdout",
     "output_type": "stream",
     "text": [
      "For n_clusters = 2 The average silhouette_score is : 0.8996951219512195\n"
     ]
    }
   ],
   "source": [
    "from sklearn.metrics import silhouette_score\n",
    "silhouette_avg = silhouette_score(wh,d)\n",
    "print(\"For n_clusters =\", 2,\n",
    "          \"The average silhouette_score is :\", silhouette_avg)"
   ]
  },
  {
   "cell_type": "code",
   "execution_count": null,
   "id": "821a6811",
   "metadata": {
    "papermill": {
     "duration": 0.012514,
     "end_time": "2022-01-19T15:48:32.784866",
     "exception": false,
     "start_time": "2022-01-19T15:48:32.772352",
     "status": "completed"
    },
    "tags": []
   },
   "outputs": [],
   "source": []
  }
 ],
 "metadata": {
  "kernelspec": {
   "display_name": "Python 3",
   "language": "python",
   "name": "python3"
  },
  "language_info": {
   "codemirror_mode": {
    "name": "ipython",
    "version": 3
   },
   "file_extension": ".py",
   "mimetype": "text/x-python",
   "name": "python",
   "nbconvert_exporter": "python",
   "pygments_lexer": "ipython3",
   "version": "3.7.12"
  },
  "papermill": {
   "default_parameters": {},
   "duration": 29.88257,
   "end_time": "2022-01-19T15:48:33.916320",
   "environment_variables": {},
   "exception": null,
   "input_path": "__notebook__.ipynb",
   "output_path": "__notebook__.ipynb",
   "parameters": {},
   "start_time": "2022-01-19T15:48:04.033750",
   "version": "2.3.3"
  }
 },
 "nbformat": 4,
 "nbformat_minor": 5
}
